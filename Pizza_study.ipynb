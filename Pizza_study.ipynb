{
 "cells": [
  {
   "cell_type": "code",
   "execution_count": 207,
   "metadata": {},
   "outputs": [],
   "source": [
    "import pandas as pd\n",
    "import csv\n",
    "import matplotlib.pyplot as plt\n",
    "import seaborn as sns\n"
   ]
  },
  {
   "cell_type": "code",
   "execution_count": 251,
   "metadata": {},
   "outputs": [],
   "source": [
    "#create csv file with csv module and read it with pandas into DataFrame\n",
    "\n",
    "with open(\"pizza\",mode = \"w\") as f:\n",
    "    fw = csv.writer(f,delimiter = \",\")\n",
    "    fw.writerow([\"year\",\"company_name\",\"pizza_name\",\"pizza_price\",\"pizzas_sold\"])\n",
    "    fw.writerow([\"2018\",\"A\",\"Hawaii\",\"5\",\"720\"])\n",
    "    fw.writerow([\"2018\",\"A\",\"Diablo\",\"7\",\"800\"])\n",
    "    fw.writerow([\"2018\",\"A\",\"Pepperoni\",\"7\",\"900\"])\n",
    "    fw.writerow([\"2019\",\"A\",\"Hawaii\",\"6\",\"980\"])\n",
    "    fw.writerow([\"2019\",\"A\",\"Diablo\",\"8\",\"990\"])\n",
    "    fw.writerow([\"2019\",\"A\",\"Pepperoni\",\"8\",\"1200\"])\n",
    "    fw.writerow([\"2020\",\"A\",\"Hawaii\",\"5\",\"1000\"])\n",
    "    fw.writerow([\"2020\",\"A\",\"Diablo\",\"9\",\"1100\"])\n",
    "    fw.writerow([\"2020\",\"A\",\"Pepperoni\",\"7\",\"1300\"])\n",
    "    fw.writerow([\"2018\",\"B\",\"Hawaii\",\"10\",\"400\"])\n",
    "    fw.writerow([\"2018\",\"B\",\"Diablo\",\"12\",\"320\"])\n",
    "    fw.writerow([\"2018\",\"B\",\"Pepperoni\",\"14\",\"350\"])\n",
    "    fw.writerow([\"2019\",\"B\",\"Hawaii\",\"11\",\"420\"])\n",
    "    fw.writerow([\"2019\",\"B\",\"Diablo\",\"12\",\"335\"])\n",
    "    fw.writerow([\"2019\",\"B\",\"Pepperoni\",\"15\",\"400\"])\n",
    "    fw.writerow([\"2020\",\"B\",\"Hawaii\",\"12\",\"500\"])\n",
    "    fw.writerow([\"2020\",\"B\",\"Diablo\",\"15\",\"375\"])\n",
    "    fw.writerow([\"2020\",\"B\",\"Pepperoni\",\"15\",\"455\"])"
   ]
  },
  {
   "cell_type": "code",
   "execution_count": 252,
   "metadata": {},
   "outputs": [
    {
     "data": {
      "text/html": [
       "<div>\n",
       "<style scoped>\n",
       "    .dataframe tbody tr th:only-of-type {\n",
       "        vertical-align: middle;\n",
       "    }\n",
       "\n",
       "    .dataframe tbody tr th {\n",
       "        vertical-align: top;\n",
       "    }\n",
       "\n",
       "    .dataframe thead th {\n",
       "        text-align: right;\n",
       "    }\n",
       "</style>\n",
       "<table border=\"1\" class=\"dataframe\">\n",
       "  <thead>\n",
       "    <tr style=\"text-align: right;\">\n",
       "      <th></th>\n",
       "      <th>year</th>\n",
       "      <th>company_name</th>\n",
       "      <th>pizza_name</th>\n",
       "      <th>pizza_price</th>\n",
       "      <th>pizzas_sold</th>\n",
       "    </tr>\n",
       "  </thead>\n",
       "  <tbody>\n",
       "    <tr>\n",
       "      <th>0</th>\n",
       "      <td>2018</td>\n",
       "      <td>A</td>\n",
       "      <td>Hawaii</td>\n",
       "      <td>5</td>\n",
       "      <td>720</td>\n",
       "    </tr>\n",
       "    <tr>\n",
       "      <th>1</th>\n",
       "      <td>2018</td>\n",
       "      <td>A</td>\n",
       "      <td>Diablo</td>\n",
       "      <td>7</td>\n",
       "      <td>800</td>\n",
       "    </tr>\n",
       "    <tr>\n",
       "      <th>2</th>\n",
       "      <td>2018</td>\n",
       "      <td>A</td>\n",
       "      <td>Pepperoni</td>\n",
       "      <td>7</td>\n",
       "      <td>900</td>\n",
       "    </tr>\n",
       "    <tr>\n",
       "      <th>3</th>\n",
       "      <td>2019</td>\n",
       "      <td>A</td>\n",
       "      <td>Hawaii</td>\n",
       "      <td>6</td>\n",
       "      <td>980</td>\n",
       "    </tr>\n",
       "    <tr>\n",
       "      <th>4</th>\n",
       "      <td>2019</td>\n",
       "      <td>A</td>\n",
       "      <td>Diablo</td>\n",
       "      <td>8</td>\n",
       "      <td>990</td>\n",
       "    </tr>\n",
       "    <tr>\n",
       "      <th>5</th>\n",
       "      <td>2019</td>\n",
       "      <td>A</td>\n",
       "      <td>Pepperoni</td>\n",
       "      <td>8</td>\n",
       "      <td>1200</td>\n",
       "    </tr>\n",
       "    <tr>\n",
       "      <th>6</th>\n",
       "      <td>2020</td>\n",
       "      <td>A</td>\n",
       "      <td>Hawaii</td>\n",
       "      <td>5</td>\n",
       "      <td>1000</td>\n",
       "    </tr>\n",
       "    <tr>\n",
       "      <th>7</th>\n",
       "      <td>2020</td>\n",
       "      <td>A</td>\n",
       "      <td>Diablo</td>\n",
       "      <td>9</td>\n",
       "      <td>1100</td>\n",
       "    </tr>\n",
       "    <tr>\n",
       "      <th>8</th>\n",
       "      <td>2020</td>\n",
       "      <td>A</td>\n",
       "      <td>Pepperoni</td>\n",
       "      <td>7</td>\n",
       "      <td>1300</td>\n",
       "    </tr>\n",
       "    <tr>\n",
       "      <th>9</th>\n",
       "      <td>2018</td>\n",
       "      <td>B</td>\n",
       "      <td>Hawaii</td>\n",
       "      <td>10</td>\n",
       "      <td>400</td>\n",
       "    </tr>\n",
       "    <tr>\n",
       "      <th>10</th>\n",
       "      <td>2018</td>\n",
       "      <td>B</td>\n",
       "      <td>Diablo</td>\n",
       "      <td>12</td>\n",
       "      <td>320</td>\n",
       "    </tr>\n",
       "    <tr>\n",
       "      <th>11</th>\n",
       "      <td>2018</td>\n",
       "      <td>B</td>\n",
       "      <td>Pepperoni</td>\n",
       "      <td>14</td>\n",
       "      <td>350</td>\n",
       "    </tr>\n",
       "    <tr>\n",
       "      <th>12</th>\n",
       "      <td>2019</td>\n",
       "      <td>B</td>\n",
       "      <td>Hawaii</td>\n",
       "      <td>11</td>\n",
       "      <td>420</td>\n",
       "    </tr>\n",
       "    <tr>\n",
       "      <th>13</th>\n",
       "      <td>2019</td>\n",
       "      <td>B</td>\n",
       "      <td>Diablo</td>\n",
       "      <td>12</td>\n",
       "      <td>335</td>\n",
       "    </tr>\n",
       "    <tr>\n",
       "      <th>14</th>\n",
       "      <td>2019</td>\n",
       "      <td>B</td>\n",
       "      <td>Pepperoni</td>\n",
       "      <td>15</td>\n",
       "      <td>400</td>\n",
       "    </tr>\n",
       "    <tr>\n",
       "      <th>15</th>\n",
       "      <td>2020</td>\n",
       "      <td>B</td>\n",
       "      <td>Hawaii</td>\n",
       "      <td>12</td>\n",
       "      <td>500</td>\n",
       "    </tr>\n",
       "    <tr>\n",
       "      <th>16</th>\n",
       "      <td>2020</td>\n",
       "      <td>B</td>\n",
       "      <td>Diablo</td>\n",
       "      <td>15</td>\n",
       "      <td>375</td>\n",
       "    </tr>\n",
       "    <tr>\n",
       "      <th>17</th>\n",
       "      <td>2020</td>\n",
       "      <td>B</td>\n",
       "      <td>Pepperoni</td>\n",
       "      <td>15</td>\n",
       "      <td>455</td>\n",
       "    </tr>\n",
       "  </tbody>\n",
       "</table>\n",
       "</div>"
      ],
      "text/plain": [
       "    year company_name pizza_name  pizza_price  pizzas_sold\n",
       "0   2018            A     Hawaii            5          720\n",
       "1   2018            A     Diablo            7          800\n",
       "2   2018            A  Pepperoni            7          900\n",
       "3   2019            A     Hawaii            6          980\n",
       "4   2019            A     Diablo            8          990\n",
       "5   2019            A  Pepperoni            8         1200\n",
       "6   2020            A     Hawaii            5         1000\n",
       "7   2020            A     Diablo            9         1100\n",
       "8   2020            A  Pepperoni            7         1300\n",
       "9   2018            B     Hawaii           10          400\n",
       "10  2018            B     Diablo           12          320\n",
       "11  2018            B  Pepperoni           14          350\n",
       "12  2019            B     Hawaii           11          420\n",
       "13  2019            B     Diablo           12          335\n",
       "14  2019            B  Pepperoni           15          400\n",
       "15  2020            B     Hawaii           12          500\n",
       "16  2020            B     Diablo           15          375\n",
       "17  2020            B  Pepperoni           15          455"
      ]
     },
     "execution_count": 252,
     "metadata": {},
     "output_type": "execute_result"
    }
   ],
   "source": [
    "dfr = pd.read_csv(\"pizza\")\n",
    "dfr"
   ]
  },
  {
   "cell_type": "code",
   "execution_count": 253,
   "metadata": {},
   "outputs": [],
   "source": [
    "#first clame : People trust us more than company B. \n",
    "#we can show this with numbers of pizzas have been sold by each company. "
   ]
  },
  {
   "cell_type": "code",
   "execution_count": 260,
   "metadata": {},
   "outputs": [
    {
     "name": "stdout",
     "output_type": "stream",
     "text": [
      "count       9.000000\n",
      "mean      998.888889\n",
      "std       183.333333\n",
      "min       720.000000\n",
      "25%       900.000000\n",
      "50%       990.000000\n",
      "75%      1100.000000\n",
      "max      1300.000000\n",
      "Name: pizzas_sold, dtype: float64 count      9.000000\n",
      "mean     395.000000\n",
      "std       58.040934\n",
      "min      320.000000\n",
      "25%      350.000000\n",
      "50%      400.000000\n",
      "75%      420.000000\n",
      "max      500.000000\n",
      "Name: pizzas_sold, dtype: float64\n"
     ]
    }
   ],
   "source": [
    "#Numerical summaries of pizzas_sold  for each company\n",
    "fil = dfr[\"company_name\"] == \"A\"\n",
    "fil1 = dfr[\"company_name\"] == \"B\"\n",
    "numsum_A = dfr.loc[fil,\"pizzas_sold\"].describe()\n",
    "numsum_B = dfr.loc[fil1,\"pizzas_sold\"].describe()\n",
    "print(numsum_A,numsum_B )\n"
   ]
  },
  {
   "cell_type": "code",
   "execution_count": 254,
   "metadata": {},
   "outputs": [
    {
     "data": {
      "image/png": "[encoded data removed]",
      "text/plain": [
       "<Figure size 432x288 with 1 Axes>"
      ]
     },
     "metadata": {
      "needs_background": "light"
     },
     "output_type": "display_data"
    }
   ],
   "source": [
    "#Graphical summaries\n",
    "sns.histplot(data = dfr.loc[dfr[\"company_name\"] == \"A\",\"pizzas_sold\"])\n",
    "sns.histplot(data =dfr.loc[dfr[\"company_name\"] == \"B\",\"pizzas_sold\"] ).set(title = \"Histogram of pizzas_sold for A and B companies\")\n",
    "plt.show()"
   ]
  },
  {
   "cell_type": "code",
   "execution_count": 255,
   "metadata": {},
   "outputs": [
    {
     "data": {
      "text/plain": [
       "[Text(0.5, 1.0, 'Boxplot of pizzas_sold for company A and B')]"
      ]
     },
     "execution_count": 255,
     "metadata": {},
     "output_type": "execute_result"
    },
    {
     "data": {
      "image/png": "[encoded data removed]",
      "text/plain": [
       "<Figure size 432x288 with 1 Axes>"
      ]
     },
     "metadata": {
      "needs_background": "light"
     },
     "output_type": "display_data"
    }
   ],
   "source": [
    "sns.boxplot(x= dfr[\"company_name\"], y = dfr[\"pizzas_sold\"]).set(title = \"Boxplot of pizzas_sold for company A and B\")"
   ]
  },
  {
   "cell_type": "code",
   "execution_count": 256,
   "metadata": {},
   "outputs": [
    {
     "data": {
      "text/plain": [
       "[Text(0.5, 1.0, 'Side-by-side boxplot of pizza_price for company A and B')]"
      ]
     },
     "execution_count": 256,
     "metadata": {},
     "output_type": "execute_result"
    },
    {
     "data": {
      "image/png": "[encoded data removed]",
      "text/plain": [
       "<Figure size 432x288 with 1 Axes>"
      ]
     },
     "metadata": {
      "needs_background": "light"
     },
     "output_type": "display_data"
    }
   ],
   "source": [
    "#second claim : our prices are the cheapest\n",
    "\n",
    "sns.boxplot(x = \"pizza_name\",y = \"pizza_price\", hue = \"company_name\",data = dfr).set(title = \"Side-by-side boxplot of pizza_price for company A and B\")\n",
    "\n"
   ]
  },
  {
   "cell_type": "code",
   "execution_count": 257,
   "metadata": {},
   "outputs": [
    {
     "data": {
      "image/png": "[encoded data removed]",
      "text/plain": [
       "<Figure size 432x288 with 1 Axes>"
      ]
     },
     "metadata": {
      "needs_background": "light"
     },
     "output_type": "display_data"
    }
   ],
   "source": [
    "#\n",
    "sns.histplot(data = dfr.loc[dfr[\"company_name\"] == \"A\",\"pizza_price\" ] )\n",
    "sns.histplot(data = dfr.loc[dfr[\"company_name\"] == \"B\",\"pizza_price\"]).set(title = \"Histogram of pizza_price for company A and B\")\n",
    "plt.show()"
   ]
  },
  {
   "cell_type": "code",
   "execution_count": 258,
   "metadata": {},
   "outputs": [
    {
     "data": {
      "text/plain": [
       "<matplotlib.collections.PathCollection at 0x1cdfad5bd00>"
      ]
     },
     "execution_count": 258,
     "metadata": {},
     "output_type": "execute_result"
    },
    {
     "data": {
      "image/png": "[encoded data removed]",
      "text/plain": [
       "<Figure size 432x288 with 1 Axes>"
      ]
     },
     "metadata": {
      "needs_background": "light"
     },
     "output_type": "display_data"
    }
   ],
   "source": [
    "# We can also assess how the company A were doing with sales in the period from 2018 to 2020 (messure pizza sales by year).\n",
    "dfa = dfr.loc[dfr[\"company_name\"] == \"A\",[\"year\",\"pizzas_sold\"]]\n",
    "plt.scatter(dfa[\"year\"],dfa[\"pizzas_sold\"])"
   ]
  },
  {
   "cell_type": "code",
   "execution_count": 259,
   "metadata": {},
   "outputs": [
    {
     "data": {
      "text/plain": [
       "<matplotlib.collections.PathCollection at 0x1cdfac9c760>"
      ]
     },
     "execution_count": 259,
     "metadata": {},
     "output_type": "execute_result"
    },
    {
     "data": {
      "image/png": "[encoded data removed]",
      "text/plain": [
       "<Figure size 432x288 with 1 Axes>"
      ]
     },
     "metadata": {
      "needs_background": "light"
     },
     "output_type": "display_data"
    }
   ],
   "source": [
    "dfb = dfr.loc[dfr[\"company_name\"] == \"B\",[\"year\",\"pizzas_sold\"]]\n",
    "plt.scatter(dfb[\"year\"],dfb[\"pizzas_sold\"])"
   ]
  },
  {
   "cell_type": "code",
   "execution_count": null,
   "metadata": {},
   "outputs": [],
   "source": [
    "\n"
   ]
  },
  {
   "cell_type": "code",
   "execution_count": null,
   "metadata": {},
   "outputs": [],
   "source": []
  },
  {
   "cell_type": "code",
   "execution_count": null,
   "metadata": {},
   "outputs": [],
   "source": []
  },
  {
   "cell_type": "code",
   "execution_count": null,
   "metadata": {},
   "outputs": [],
   "source": []
  },
  {
   "cell_type": "code",
   "execution_count": null,
   "metadata": {},
   "outputs": [],
   "source": []
  },
  {
   "cell_type": "code",
   "execution_count": null,
   "metadata": {},
   "outputs": [],
   "source": []
  }
 ],
 "metadata": {
  "kernelspec": {
   "display_name": "Python 3",
   "language": "python",
   "name": "python3"
  },
  "language_info": {
   "codemirror_mode": {
    "name": "ipython",
    "version": 3
   },
   "file_extension": ".py",
   "mimetype": "text/x-python",
   "name": "python",
   "nbconvert_exporter": "python",
   "pygments_lexer": "ipython3",
   "version": "3.8.5"
  }
 },
 "nbformat": 4,
 "nbformat_minor": 4
}
